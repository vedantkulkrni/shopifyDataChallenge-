{
 "metadata": {
  "language_info": {
   "codemirror_mode": {
    "name": "ipython",
    "version": 3
   },
   "file_extension": ".py",
   "mimetype": "text/x-python",
   "name": "python",
   "nbconvert_exporter": "python",
   "pygments_lexer": "ipython3",
   "version": "3.9.5"
  },
  "orig_nbformat": 2,
  "kernelspec": {
   "name": "python3",
   "display_name": "Python 3.9.5 64-bit ('quant': conda)",
   "metadata": {
    "interpreter": {
     "hash": "ae07c798968d3e69c48cf8ead80418a10680fe5743be5bb5a4b8eb4226a4e788"
    }
   }
  }
 },
 "nbformat": 4,
 "nbformat_minor": 2,
 "cells": [
  {
   "source": [
    "\n",
    "a. Think about what could be going wrong with our calculation. Think about a better way to evaluate this data. \n"
   ],
   "cell_type": "markdown",
   "metadata": {}
  },
  {
   "cell_type": "code",
   "execution_count": 94,
   "metadata": {},
   "outputs": [],
   "source": [
    "import pandas as pd"
   ]
  },
  {
   "cell_type": "code",
   "execution_count": 96,
   "metadata": {},
   "outputs": [],
   "source": [
    "df = pd.read_excel('2019 Winter Data Science Intern Challenge Data Set.xlsx')"
   ]
  },
  {
   "cell_type": "code",
   "execution_count": 98,
   "metadata": {},
   "outputs": [
    {
     "output_type": "execute_result",
     "data": {
      "text/plain": [
       "   order_id  shop_id  user_id  order_amount  total_items payment_method  \\\n",
       "0         1       53      746           224            2           cash   \n",
       "1         2       92      925            90            1           cash   \n",
       "2         3       44      861           144            1           cash   \n",
       "3         4       18      935           156            1    credit_card   \n",
       "4         5       18      883           156            1    credit_card   \n",
       "\n",
       "               created_at  \n",
       "0 2017-03-13 12:36:56.190  \n",
       "1 2017-03-03 17:38:51.999  \n",
       "2 2017-03-14 04:23:55.595  \n",
       "3 2017-03-26 12:43:36.649  \n",
       "4 2017-03-01 04:35:10.773  "
      ],
      "text/html": "<div>\n<style scoped>\n    .dataframe tbody tr th:only-of-type {\n        vertical-align: middle;\n    }\n\n    .dataframe tbody tr th {\n        vertical-align: top;\n    }\n\n    .dataframe thead th {\n        text-align: right;\n    }\n</style>\n<table border=\"1\" class=\"dataframe\">\n  <thead>\n    <tr style=\"text-align: right;\">\n      <th></th>\n      <th>order_id</th>\n      <th>shop_id</th>\n      <th>user_id</th>\n      <th>order_amount</th>\n      <th>total_items</th>\n      <th>payment_method</th>\n      <th>created_at</th>\n    </tr>\n  </thead>\n  <tbody>\n    <tr>\n      <th>0</th>\n      <td>1</td>\n      <td>53</td>\n      <td>746</td>\n      <td>224</td>\n      <td>2</td>\n      <td>cash</td>\n      <td>2017-03-13 12:36:56.190</td>\n    </tr>\n    <tr>\n      <th>1</th>\n      <td>2</td>\n      <td>92</td>\n      <td>925</td>\n      <td>90</td>\n      <td>1</td>\n      <td>cash</td>\n      <td>2017-03-03 17:38:51.999</td>\n    </tr>\n    <tr>\n      <th>2</th>\n      <td>3</td>\n      <td>44</td>\n      <td>861</td>\n      <td>144</td>\n      <td>1</td>\n      <td>cash</td>\n      <td>2017-03-14 04:23:55.595</td>\n    </tr>\n    <tr>\n      <th>3</th>\n      <td>4</td>\n      <td>18</td>\n      <td>935</td>\n      <td>156</td>\n      <td>1</td>\n      <td>credit_card</td>\n      <td>2017-03-26 12:43:36.649</td>\n    </tr>\n    <tr>\n      <th>4</th>\n      <td>5</td>\n      <td>18</td>\n      <td>883</td>\n      <td>156</td>\n      <td>1</td>\n      <td>credit_card</td>\n      <td>2017-03-01 04:35:10.773</td>\n    </tr>\n  </tbody>\n</table>\n</div>"
     },
     "metadata": {},
     "execution_count": 98
    }
   ],
   "source": [
    "df.head()"
   ]
  },
  {
   "cell_type": "code",
   "execution_count": 100,
   "metadata": {},
   "outputs": [
    {
     "output_type": "execute_result",
     "data": {
      "text/plain": [
       "          order_id      shop_id      user_id   order_amount  total_items\n",
       "count  5000.000000  5000.000000  5000.000000    5000.000000   5000.00000\n",
       "mean   2500.500000    50.078800   849.092400    3145.128000      8.78720\n",
       "std    1443.520003    29.006118    87.798982   41282.539349    116.32032\n",
       "min       1.000000     1.000000   607.000000      90.000000      1.00000\n",
       "25%    1250.750000    24.000000   775.000000     163.000000      1.00000\n",
       "50%    2500.500000    50.000000   849.000000     284.000000      2.00000\n",
       "75%    3750.250000    75.000000   925.000000     390.000000      3.00000\n",
       "max    5000.000000   100.000000   999.000000  704000.000000   2000.00000"
      ],
      "text/html": "<div>\n<style scoped>\n    .dataframe tbody tr th:only-of-type {\n        vertical-align: middle;\n    }\n\n    .dataframe tbody tr th {\n        vertical-align: top;\n    }\n\n    .dataframe thead th {\n        text-align: right;\n    }\n</style>\n<table border=\"1\" class=\"dataframe\">\n  <thead>\n    <tr style=\"text-align: right;\">\n      <th></th>\n      <th>order_id</th>\n      <th>shop_id</th>\n      <th>user_id</th>\n      <th>order_amount</th>\n      <th>total_items</th>\n    </tr>\n  </thead>\n  <tbody>\n    <tr>\n      <th>count</th>\n      <td>5000.000000</td>\n      <td>5000.000000</td>\n      <td>5000.000000</td>\n      <td>5000.000000</td>\n      <td>5000.00000</td>\n    </tr>\n    <tr>\n      <th>mean</th>\n      <td>2500.500000</td>\n      <td>50.078800</td>\n      <td>849.092400</td>\n      <td>3145.128000</td>\n      <td>8.78720</td>\n    </tr>\n    <tr>\n      <th>std</th>\n      <td>1443.520003</td>\n      <td>29.006118</td>\n      <td>87.798982</td>\n      <td>41282.539349</td>\n      <td>116.32032</td>\n    </tr>\n    <tr>\n      <th>min</th>\n      <td>1.000000</td>\n      <td>1.000000</td>\n      <td>607.000000</td>\n      <td>90.000000</td>\n      <td>1.00000</td>\n    </tr>\n    <tr>\n      <th>25%</th>\n      <td>1250.750000</td>\n      <td>24.000000</td>\n      <td>775.000000</td>\n      <td>163.000000</td>\n      <td>1.00000</td>\n    </tr>\n    <tr>\n      <th>50%</th>\n      <td>2500.500000</td>\n      <td>50.000000</td>\n      <td>849.000000</td>\n      <td>284.000000</td>\n      <td>2.00000</td>\n    </tr>\n    <tr>\n      <th>75%</th>\n      <td>3750.250000</td>\n      <td>75.000000</td>\n      <td>925.000000</td>\n      <td>390.000000</td>\n      <td>3.00000</td>\n    </tr>\n    <tr>\n      <th>max</th>\n      <td>5000.000000</td>\n      <td>100.000000</td>\n      <td>999.000000</td>\n      <td>704000.000000</td>\n      <td>2000.00000</td>\n    </tr>\n  </tbody>\n</table>\n</div>"
     },
     "metadata": {},
     "execution_count": 100
    }
   ],
   "source": [
    "df.describe()"
   ]
  },
  {
   "source": [
    "An order_amount max of 704000 looks really high at this stage. Let us explore further"
   ],
   "cell_type": "markdown",
   "metadata": {}
  },
  {
   "cell_type": "code",
   "execution_count": 102,
   "metadata": {},
   "outputs": [
    {
     "output_type": "execute_result",
     "data": {
      "text/plain": [
       "<AxesSubplot:>"
      ]
     },
     "metadata": {},
     "execution_count": 102
    },
    {
     "output_type": "display_data",
     "data": {
      "text/plain": "<Figure size 432x288 with 1 Axes>",
      "image/svg+xml": "<?xml version=\"1.0\" encoding=\"utf-8\" standalone=\"no\"?>\n<!DOCTYPE svg PUBLIC \"-//W3C//DTD SVG 1.1//EN\"\n  \"http://www.w3.org/Graphics/SVG/1.1/DTD/svg11.dtd\">\n<svg height=\"248.79625pt\" version=\"1.1\" viewBox=\"0 0 394.375 248.79625\" width=\"394.375pt\" xmlns=\"http://www.w3.org/2000/svg\" xmlns:xlink=\"http://www.w3.org/1999/xlink\">\n <metadata>\n  <rdf:RDF xmlns:cc=\"http://creativecommons.org/ns#\" xmlns:dc=\"http://purl.org/dc/elements/1.1/\" xmlns:rdf=\"http://www.w3.org/1999/02/22-rdf-syntax-ns#\">\n   <cc:Work>\n    <dc:type rdf:resource=\"http://purl.org/dc/dcmitype/StillImage\"/>\n    <dc:date>2021-09-12T14:30:09.455805</dc:date>\n    <dc:format>image/svg+xml</dc:format>\n    <dc:creator>\n     <cc:Agent>\n      <dc:title>Matplotlib v3.4.2, https://matplotlib.org/</dc:title>\n     </cc:Agent>\n    </dc:creator>\n   </cc:Work>\n  </rdf:RDF>\n </metadata>\n <defs>\n  <style type=\"text/css\">*{stroke-linecap:butt;stroke-linejoin:round;}</style>\n </defs>\n <g id=\"figure_1\">\n  <g id=\"patch_1\">\n   <path d=\"M 0 248.79625 \nL 394.375 248.79625 \nL 394.375 0 \nL 0 0 \nz\n\" style=\"fill:none;\"/>\n  </g>\n  <g id=\"axes_1\">\n   <g id=\"patch_2\">\n    <path d=\"M 52.375 224.64 \nL 387.175 224.64 \nL 387.175 7.2 \nL 52.375 7.2 \nz\n\" style=\"fill:#ffffff;\"/>\n   </g>\n   <g id=\"matplotlib.axis_1\">\n    <g id=\"xtick_1\">\n     <g id=\"line2d_1\">\n      <path clip-path=\"url(#p3621104e65)\" d=\"M 219.775 224.64 \nL 219.775 7.2 \n\" style=\"fill:none;stroke:#b0b0b0;stroke-linecap:square;stroke-width:0.8;\"/>\n     </g>\n     <g id=\"line2d_2\">\n      <defs>\n       <path d=\"M 0 0 \nL 0 3.5 \n\" id=\"me19b4368e5\" style=\"stroke:#000000;stroke-width:0.8;\"/>\n      </defs>\n      <g>\n       <use style=\"stroke:#000000;stroke-width:0.8;\" x=\"219.775\" xlink:href=\"#me19b4368e5\" y=\"224.64\"/>\n      </g>\n     </g>\n     <g id=\"text_1\">\n      <!-- order_amount -->\n      <g transform=\"translate(184.65 239.238437)scale(0.1 -0.1)\">\n       <defs>\n        <path d=\"M 1959 3097 \nQ 1497 3097 1228 2736 \nQ 959 2375 959 1747 \nQ 959 1119 1226 758 \nQ 1494 397 1959 397 \nQ 2419 397 2687 759 \nQ 2956 1122 2956 1747 \nQ 2956 2369 2687 2733 \nQ 2419 3097 1959 3097 \nz\nM 1959 3584 \nQ 2709 3584 3137 3096 \nQ 3566 2609 3566 1747 \nQ 3566 888 3137 398 \nQ 2709 -91 1959 -91 \nQ 1206 -91 779 398 \nQ 353 888 353 1747 \nQ 353 2609 779 3096 \nQ 1206 3584 1959 3584 \nz\n\" id=\"DejaVuSans-6f\" transform=\"scale(0.015625)\"/>\n        <path d=\"M 2631 2963 \nQ 2534 3019 2420 3045 \nQ 2306 3072 2169 3072 \nQ 1681 3072 1420 2755 \nQ 1159 2438 1159 1844 \nL 1159 0 \nL 581 0 \nL 581 3500 \nL 1159 3500 \nL 1159 2956 \nQ 1341 3275 1631 3429 \nQ 1922 3584 2338 3584 \nQ 2397 3584 2469 3576 \nQ 2541 3569 2628 3553 \nL 2631 2963 \nz\n\" id=\"DejaVuSans-72\" transform=\"scale(0.015625)\"/>\n        <path d=\"M 2906 2969 \nL 2906 4863 \nL 3481 4863 \nL 3481 0 \nL 2906 0 \nL 2906 525 \nQ 2725 213 2448 61 \nQ 2172 -91 1784 -91 \nQ 1150 -91 751 415 \nQ 353 922 353 1747 \nQ 353 2572 751 3078 \nQ 1150 3584 1784 3584 \nQ 2172 3584 2448 3432 \nQ 2725 3281 2906 2969 \nz\nM 947 1747 \nQ 947 1113 1208 752 \nQ 1469 391 1925 391 \nQ 2381 391 2643 752 \nQ 2906 1113 2906 1747 \nQ 2906 2381 2643 2742 \nQ 2381 3103 1925 3103 \nQ 1469 3103 1208 2742 \nQ 947 2381 947 1747 \nz\n\" id=\"DejaVuSans-64\" transform=\"scale(0.015625)\"/>\n        <path d=\"M 3597 1894 \nL 3597 1613 \nL 953 1613 \nQ 991 1019 1311 708 \nQ 1631 397 2203 397 \nQ 2534 397 2845 478 \nQ 3156 559 3463 722 \nL 3463 178 \nQ 3153 47 2828 -22 \nQ 2503 -91 2169 -91 \nQ 1331 -91 842 396 \nQ 353 884 353 1716 \nQ 353 2575 817 3079 \nQ 1281 3584 2069 3584 \nQ 2775 3584 3186 3129 \nQ 3597 2675 3597 1894 \nz\nM 3022 2063 \nQ 3016 2534 2758 2815 \nQ 2500 3097 2075 3097 \nQ 1594 3097 1305 2825 \nQ 1016 2553 972 2059 \nL 3022 2063 \nz\n\" id=\"DejaVuSans-65\" transform=\"scale(0.015625)\"/>\n        <path d=\"M 3263 -1063 \nL 3263 -1509 \nL -63 -1509 \nL -63 -1063 \nL 3263 -1063 \nz\n\" id=\"DejaVuSans-5f\" transform=\"scale(0.015625)\"/>\n        <path d=\"M 2194 1759 \nQ 1497 1759 1228 1600 \nQ 959 1441 959 1056 \nQ 959 750 1161 570 \nQ 1363 391 1709 391 \nQ 2188 391 2477 730 \nQ 2766 1069 2766 1631 \nL 2766 1759 \nL 2194 1759 \nz\nM 3341 1997 \nL 3341 0 \nL 2766 0 \nL 2766 531 \nQ 2569 213 2275 61 \nQ 1981 -91 1556 -91 \nQ 1019 -91 701 211 \nQ 384 513 384 1019 \nQ 384 1609 779 1909 \nQ 1175 2209 1959 2209 \nL 2766 2209 \nL 2766 2266 \nQ 2766 2663 2505 2880 \nQ 2244 3097 1772 3097 \nQ 1472 3097 1187 3025 \nQ 903 2953 641 2809 \nL 641 3341 \nQ 956 3463 1253 3523 \nQ 1550 3584 1831 3584 \nQ 2591 3584 2966 3190 \nQ 3341 2797 3341 1997 \nz\n\" id=\"DejaVuSans-61\" transform=\"scale(0.015625)\"/>\n        <path d=\"M 3328 2828 \nQ 3544 3216 3844 3400 \nQ 4144 3584 4550 3584 \nQ 5097 3584 5394 3201 \nQ 5691 2819 5691 2113 \nL 5691 0 \nL 5113 0 \nL 5113 2094 \nQ 5113 2597 4934 2840 \nQ 4756 3084 4391 3084 \nQ 3944 3084 3684 2787 \nQ 3425 2491 3425 1978 \nL 3425 0 \nL 2847 0 \nL 2847 2094 \nQ 2847 2600 2669 2842 \nQ 2491 3084 2119 3084 \nQ 1678 3084 1418 2786 \nQ 1159 2488 1159 1978 \nL 1159 0 \nL 581 0 \nL 581 3500 \nL 1159 3500 \nL 1159 2956 \nQ 1356 3278 1631 3431 \nQ 1906 3584 2284 3584 \nQ 2666 3584 2933 3390 \nQ 3200 3197 3328 2828 \nz\n\" id=\"DejaVuSans-6d\" transform=\"scale(0.015625)\"/>\n        <path d=\"M 544 1381 \nL 544 3500 \nL 1119 3500 \nL 1119 1403 \nQ 1119 906 1312 657 \nQ 1506 409 1894 409 \nQ 2359 409 2629 706 \nQ 2900 1003 2900 1516 \nL 2900 3500 \nL 3475 3500 \nL 3475 0 \nL 2900 0 \nL 2900 538 \nQ 2691 219 2414 64 \nQ 2138 -91 1772 -91 \nQ 1169 -91 856 284 \nQ 544 659 544 1381 \nz\nM 1991 3584 \nL 1991 3584 \nz\n\" id=\"DejaVuSans-75\" transform=\"scale(0.015625)\"/>\n        <path d=\"M 3513 2113 \nL 3513 0 \nL 2938 0 \nL 2938 2094 \nQ 2938 2591 2744 2837 \nQ 2550 3084 2163 3084 \nQ 1697 3084 1428 2787 \nQ 1159 2491 1159 1978 \nL 1159 0 \nL 581 0 \nL 581 3500 \nL 1159 3500 \nL 1159 2956 \nQ 1366 3272 1645 3428 \nQ 1925 3584 2291 3584 \nQ 2894 3584 3203 3211 \nQ 3513 2838 3513 2113 \nz\n\" id=\"DejaVuSans-6e\" transform=\"scale(0.015625)\"/>\n        <path d=\"M 1172 4494 \nL 1172 3500 \nL 2356 3500 \nL 2356 3053 \nL 1172 3053 \nL 1172 1153 \nQ 1172 725 1289 603 \nQ 1406 481 1766 481 \nL 2356 481 \nL 2356 0 \nL 1766 0 \nQ 1100 0 847 248 \nQ 594 497 594 1153 \nL 594 3053 \nL 172 3053 \nL 172 3500 \nL 594 3500 \nL 594 4494 \nL 1172 4494 \nz\n\" id=\"DejaVuSans-74\" transform=\"scale(0.015625)\"/>\n       </defs>\n       <use xlink:href=\"#DejaVuSans-6f\"/>\n       <use x=\"61.181641\" xlink:href=\"#DejaVuSans-72\"/>\n       <use x=\"100.544922\" xlink:href=\"#DejaVuSans-64\"/>\n       <use x=\"164.021484\" xlink:href=\"#DejaVuSans-65\"/>\n       <use x=\"225.544922\" xlink:href=\"#DejaVuSans-72\"/>\n       <use x=\"266.658203\" xlink:href=\"#DejaVuSans-5f\"/>\n       <use x=\"316.658203\" xlink:href=\"#DejaVuSans-61\"/>\n       <use x=\"377.9375\" xlink:href=\"#DejaVuSans-6d\"/>\n       <use x=\"475.349609\" xlink:href=\"#DejaVuSans-6f\"/>\n       <use x=\"536.53125\" xlink:href=\"#DejaVuSans-75\"/>\n       <use x=\"599.910156\" xlink:href=\"#DejaVuSans-6e\"/>\n       <use x=\"663.289062\" xlink:href=\"#DejaVuSans-74\"/>\n      </g>\n     </g>\n    </g>\n   </g>\n   <g id=\"matplotlib.axis_2\">\n    <g id=\"ytick_1\">\n     <g id=\"line2d_3\">\n      <path clip-path=\"url(#p3621104e65)\" d=\"M 52.375 214.781638 \nL 387.175 214.781638 \n\" style=\"fill:none;stroke:#b0b0b0;stroke-linecap:square;stroke-width:0.8;\"/>\n     </g>\n     <g id=\"line2d_4\">\n      <defs>\n       <path d=\"M 0 0 \nL -3.5 0 \n\" id=\"m55c900a5aa\" style=\"stroke:#000000;stroke-width:0.8;\"/>\n      </defs>\n      <g>\n       <use style=\"stroke:#000000;stroke-width:0.8;\" x=\"52.375\" xlink:href=\"#m55c900a5aa\" y=\"214.781638\"/>\n      </g>\n     </g>\n     <g id=\"text_2\">\n      <!-- 0 -->\n      <g transform=\"translate(39.0125 218.580856)scale(0.1 -0.1)\">\n       <defs>\n        <path d=\"M 2034 4250 \nQ 1547 4250 1301 3770 \nQ 1056 3291 1056 2328 \nQ 1056 1369 1301 889 \nQ 1547 409 2034 409 \nQ 2525 409 2770 889 \nQ 3016 1369 3016 2328 \nQ 3016 3291 2770 3770 \nQ 2525 4250 2034 4250 \nz\nM 2034 4750 \nQ 2819 4750 3233 4129 \nQ 3647 3509 3647 2328 \nQ 3647 1150 3233 529 \nQ 2819 -91 2034 -91 \nQ 1250 -91 836 529 \nQ 422 1150 422 2328 \nQ 422 3509 836 4129 \nQ 1250 4750 2034 4750 \nz\n\" id=\"DejaVuSans-30\" transform=\"scale(0.015625)\"/>\n       </defs>\n       <use xlink:href=\"#DejaVuSans-30\"/>\n      </g>\n     </g>\n    </g>\n    <g id=\"ytick_2\">\n     <g id=\"line2d_5\">\n      <path clip-path=\"url(#p3621104e65)\" d=\"M 52.375 186.699535 \nL 387.175 186.699535 \n\" style=\"fill:none;stroke:#b0b0b0;stroke-linecap:square;stroke-width:0.8;\"/>\n     </g>\n     <g id=\"line2d_6\">\n      <g>\n       <use style=\"stroke:#000000;stroke-width:0.8;\" x=\"52.375\" xlink:href=\"#m55c900a5aa\" y=\"186.699535\"/>\n      </g>\n     </g>\n     <g id=\"text_3\">\n      <!-- 100000 -->\n      <g transform=\"translate(7.2 190.498754)scale(0.1 -0.1)\">\n       <defs>\n        <path d=\"M 794 531 \nL 1825 531 \nL 1825 4091 \nL 703 3866 \nL 703 4441 \nL 1819 4666 \nL 2450 4666 \nL 2450 531 \nL 3481 531 \nL 3481 0 \nL 794 0 \nL 794 531 \nz\n\" id=\"DejaVuSans-31\" transform=\"scale(0.015625)\"/>\n       </defs>\n       <use xlink:href=\"#DejaVuSans-31\"/>\n       <use x=\"63.623047\" xlink:href=\"#DejaVuSans-30\"/>\n       <use x=\"127.246094\" xlink:href=\"#DejaVuSans-30\"/>\n       <use x=\"190.869141\" xlink:href=\"#DejaVuSans-30\"/>\n       <use x=\"254.492188\" xlink:href=\"#DejaVuSans-30\"/>\n       <use x=\"318.115234\" xlink:href=\"#DejaVuSans-30\"/>\n      </g>\n     </g>\n    </g>\n    <g id=\"ytick_3\">\n     <g id=\"line2d_7\">\n      <path clip-path=\"url(#p3621104e65)\" d=\"M 52.375 158.617433 \nL 387.175 158.617433 \n\" style=\"fill:none;stroke:#b0b0b0;stroke-linecap:square;stroke-width:0.8;\"/>\n     </g>\n     <g id=\"line2d_8\">\n      <g>\n       <use style=\"stroke:#000000;stroke-width:0.8;\" x=\"52.375\" xlink:href=\"#m55c900a5aa\" y=\"158.617433\"/>\n      </g>\n     </g>\n     <g id=\"text_4\">\n      <!-- 200000 -->\n      <g transform=\"translate(7.2 162.416651)scale(0.1 -0.1)\">\n       <defs>\n        <path d=\"M 1228 531 \nL 3431 531 \nL 3431 0 \nL 469 0 \nL 469 531 \nQ 828 903 1448 1529 \nQ 2069 2156 2228 2338 \nQ 2531 2678 2651 2914 \nQ 2772 3150 2772 3378 \nQ 2772 3750 2511 3984 \nQ 2250 4219 1831 4219 \nQ 1534 4219 1204 4116 \nQ 875 4013 500 3803 \nL 500 4441 \nQ 881 4594 1212 4672 \nQ 1544 4750 1819 4750 \nQ 2544 4750 2975 4387 \nQ 3406 4025 3406 3419 \nQ 3406 3131 3298 2873 \nQ 3191 2616 2906 2266 \nQ 2828 2175 2409 1742 \nQ 1991 1309 1228 531 \nz\n\" id=\"DejaVuSans-32\" transform=\"scale(0.015625)\"/>\n       </defs>\n       <use xlink:href=\"#DejaVuSans-32\"/>\n       <use x=\"63.623047\" xlink:href=\"#DejaVuSans-30\"/>\n       <use x=\"127.246094\" xlink:href=\"#DejaVuSans-30\"/>\n       <use x=\"190.869141\" xlink:href=\"#DejaVuSans-30\"/>\n       <use x=\"254.492188\" xlink:href=\"#DejaVuSans-30\"/>\n       <use x=\"318.115234\" xlink:href=\"#DejaVuSans-30\"/>\n      </g>\n     </g>\n    </g>\n    <g id=\"ytick_4\">\n     <g id=\"line2d_9\">\n      <path clip-path=\"url(#p3621104e65)\" d=\"M 52.375 130.53533 \nL 387.175 130.53533 \n\" style=\"fill:none;stroke:#b0b0b0;stroke-linecap:square;stroke-width:0.8;\"/>\n     </g>\n     <g id=\"line2d_10\">\n      <g>\n       <use style=\"stroke:#000000;stroke-width:0.8;\" x=\"52.375\" xlink:href=\"#m55c900a5aa\" y=\"130.53533\"/>\n      </g>\n     </g>\n     <g id=\"text_5\">\n      <!-- 300000 -->\n      <g transform=\"translate(7.2 134.334549)scale(0.1 -0.1)\">\n       <defs>\n        <path d=\"M 2597 2516 \nQ 3050 2419 3304 2112 \nQ 3559 1806 3559 1356 \nQ 3559 666 3084 287 \nQ 2609 -91 1734 -91 \nQ 1441 -91 1130 -33 \nQ 819 25 488 141 \nL 488 750 \nQ 750 597 1062 519 \nQ 1375 441 1716 441 \nQ 2309 441 2620 675 \nQ 2931 909 2931 1356 \nQ 2931 1769 2642 2001 \nQ 2353 2234 1838 2234 \nL 1294 2234 \nL 1294 2753 \nL 1863 2753 \nQ 2328 2753 2575 2939 \nQ 2822 3125 2822 3475 \nQ 2822 3834 2567 4026 \nQ 2313 4219 1838 4219 \nQ 1578 4219 1281 4162 \nQ 984 4106 628 3988 \nL 628 4550 \nQ 988 4650 1302 4700 \nQ 1616 4750 1894 4750 \nQ 2613 4750 3031 4423 \nQ 3450 4097 3450 3541 \nQ 3450 3153 3228 2886 \nQ 3006 2619 2597 2516 \nz\n\" id=\"DejaVuSans-33\" transform=\"scale(0.015625)\"/>\n       </defs>\n       <use xlink:href=\"#DejaVuSans-33\"/>\n       <use x=\"63.623047\" xlink:href=\"#DejaVuSans-30\"/>\n       <use x=\"127.246094\" xlink:href=\"#DejaVuSans-30\"/>\n       <use x=\"190.869141\" xlink:href=\"#DejaVuSans-30\"/>\n       <use x=\"254.492188\" xlink:href=\"#DejaVuSans-30\"/>\n       <use x=\"318.115234\" xlink:href=\"#DejaVuSans-30\"/>\n      </g>\n     </g>\n    </g>\n    <g id=\"ytick_5\">\n     <g id=\"line2d_11\">\n      <path clip-path=\"url(#p3621104e65)\" d=\"M 52.375 102.453228 \nL 387.175 102.453228 \n\" style=\"fill:none;stroke:#b0b0b0;stroke-linecap:square;stroke-width:0.8;\"/>\n     </g>\n     <g id=\"line2d_12\">\n      <g>\n       <use style=\"stroke:#000000;stroke-width:0.8;\" x=\"52.375\" xlink:href=\"#m55c900a5aa\" y=\"102.453228\"/>\n      </g>\n     </g>\n     <g id=\"text_6\">\n      <!-- 400000 -->\n      <g transform=\"translate(7.2 106.252447)scale(0.1 -0.1)\">\n       <defs>\n        <path d=\"M 2419 4116 \nL 825 1625 \nL 2419 1625 \nL 2419 4116 \nz\nM 2253 4666 \nL 3047 4666 \nL 3047 1625 \nL 3713 1625 \nL 3713 1100 \nL 3047 1100 \nL 3047 0 \nL 2419 0 \nL 2419 1100 \nL 313 1100 \nL 313 1709 \nL 2253 4666 \nz\n\" id=\"DejaVuSans-34\" transform=\"scale(0.015625)\"/>\n       </defs>\n       <use xlink:href=\"#DejaVuSans-34\"/>\n       <use x=\"63.623047\" xlink:href=\"#DejaVuSans-30\"/>\n       <use x=\"127.246094\" xlink:href=\"#DejaVuSans-30\"/>\n       <use x=\"190.869141\" xlink:href=\"#DejaVuSans-30\"/>\n       <use x=\"254.492188\" xlink:href=\"#DejaVuSans-30\"/>\n       <use x=\"318.115234\" xlink:href=\"#DejaVuSans-30\"/>\n      </g>\n     </g>\n    </g>\n    <g id=\"ytick_6\">\n     <g id=\"line2d_13\">\n      <path clip-path=\"url(#p3621104e65)\" d=\"M 52.375 74.371125 \nL 387.175 74.371125 \n\" style=\"fill:none;stroke:#b0b0b0;stroke-linecap:square;stroke-width:0.8;\"/>\n     </g>\n     <g id=\"line2d_14\">\n      <g>\n       <use style=\"stroke:#000000;stroke-width:0.8;\" x=\"52.375\" xlink:href=\"#m55c900a5aa\" y=\"74.371125\"/>\n      </g>\n     </g>\n     <g id=\"text_7\">\n      <!-- 500000 -->\n      <g transform=\"translate(7.2 78.170344)scale(0.1 -0.1)\">\n       <defs>\n        <path d=\"M 691 4666 \nL 3169 4666 \nL 3169 4134 \nL 1269 4134 \nL 1269 2991 \nQ 1406 3038 1543 3061 \nQ 1681 3084 1819 3084 \nQ 2600 3084 3056 2656 \nQ 3513 2228 3513 1497 \nQ 3513 744 3044 326 \nQ 2575 -91 1722 -91 \nQ 1428 -91 1123 -41 \nQ 819 9 494 109 \nL 494 744 \nQ 775 591 1075 516 \nQ 1375 441 1709 441 \nQ 2250 441 2565 725 \nQ 2881 1009 2881 1497 \nQ 2881 1984 2565 2268 \nQ 2250 2553 1709 2553 \nQ 1456 2553 1204 2497 \nQ 953 2441 691 2322 \nL 691 4666 \nz\n\" id=\"DejaVuSans-35\" transform=\"scale(0.015625)\"/>\n       </defs>\n       <use xlink:href=\"#DejaVuSans-35\"/>\n       <use x=\"63.623047\" xlink:href=\"#DejaVuSans-30\"/>\n       <use x=\"127.246094\" xlink:href=\"#DejaVuSans-30\"/>\n       <use x=\"190.869141\" xlink:href=\"#DejaVuSans-30\"/>\n       <use x=\"254.492188\" xlink:href=\"#DejaVuSans-30\"/>\n       <use x=\"318.115234\" xlink:href=\"#DejaVuSans-30\"/>\n      </g>\n     </g>\n    </g>\n    <g id=\"ytick_7\">\n     <g id=\"line2d_15\">\n      <path clip-path=\"url(#p3621104e65)\" d=\"M 52.375 46.289023 \nL 387.175 46.289023 \n\" style=\"fill:none;stroke:#b0b0b0;stroke-linecap:square;stroke-width:0.8;\"/>\n     </g>\n     <g id=\"line2d_16\">\n      <g>\n       <use style=\"stroke:#000000;stroke-width:0.8;\" x=\"52.375\" xlink:href=\"#m55c900a5aa\" y=\"46.289023\"/>\n      </g>\n     </g>\n     <g id=\"text_8\">\n      <!-- 600000 -->\n      <g transform=\"translate(7.2 50.088242)scale(0.1 -0.1)\">\n       <defs>\n        <path d=\"M 2113 2584 \nQ 1688 2584 1439 2293 \nQ 1191 2003 1191 1497 \nQ 1191 994 1439 701 \nQ 1688 409 2113 409 \nQ 2538 409 2786 701 \nQ 3034 994 3034 1497 \nQ 3034 2003 2786 2293 \nQ 2538 2584 2113 2584 \nz\nM 3366 4563 \nL 3366 3988 \nQ 3128 4100 2886 4159 \nQ 2644 4219 2406 4219 \nQ 1781 4219 1451 3797 \nQ 1122 3375 1075 2522 \nQ 1259 2794 1537 2939 \nQ 1816 3084 2150 3084 \nQ 2853 3084 3261 2657 \nQ 3669 2231 3669 1497 \nQ 3669 778 3244 343 \nQ 2819 -91 2113 -91 \nQ 1303 -91 875 529 \nQ 447 1150 447 2328 \nQ 447 3434 972 4092 \nQ 1497 4750 2381 4750 \nQ 2619 4750 2861 4703 \nQ 3103 4656 3366 4563 \nz\n\" id=\"DejaVuSans-36\" transform=\"scale(0.015625)\"/>\n       </defs>\n       <use xlink:href=\"#DejaVuSans-36\"/>\n       <use x=\"63.623047\" xlink:href=\"#DejaVuSans-30\"/>\n       <use x=\"127.246094\" xlink:href=\"#DejaVuSans-30\"/>\n       <use x=\"190.869141\" xlink:href=\"#DejaVuSans-30\"/>\n       <use x=\"254.492188\" xlink:href=\"#DejaVuSans-30\"/>\n       <use x=\"318.115234\" xlink:href=\"#DejaVuSans-30\"/>\n      </g>\n     </g>\n    </g>\n    <g id=\"ytick_8\">\n     <g id=\"line2d_17\">\n      <path clip-path=\"url(#p3621104e65)\" d=\"M 52.375 18.20692 \nL 387.175 18.20692 \n\" style=\"fill:none;stroke:#b0b0b0;stroke-linecap:square;stroke-width:0.8;\"/>\n     </g>\n     <g id=\"line2d_18\">\n      <g>\n       <use style=\"stroke:#000000;stroke-width:0.8;\" x=\"52.375\" xlink:href=\"#m55c900a5aa\" y=\"18.20692\"/>\n      </g>\n     </g>\n     <g id=\"text_9\">\n      <!-- 700000 -->\n      <g transform=\"translate(7.2 22.006139)scale(0.1 -0.1)\">\n       <defs>\n        <path d=\"M 525 4666 \nL 3525 4666 \nL 3525 4397 \nL 1831 0 \nL 1172 0 \nL 2766 4134 \nL 525 4134 \nL 525 4666 \nz\n\" id=\"DejaVuSans-37\" transform=\"scale(0.015625)\"/>\n       </defs>\n       <use xlink:href=\"#DejaVuSans-37\"/>\n       <use x=\"63.623047\" xlink:href=\"#DejaVuSans-30\"/>\n       <use x=\"127.246094\" xlink:href=\"#DejaVuSans-30\"/>\n       <use x=\"190.869141\" xlink:href=\"#DejaVuSans-30\"/>\n       <use x=\"254.492188\" xlink:href=\"#DejaVuSans-30\"/>\n       <use x=\"318.115234\" xlink:href=\"#DejaVuSans-30\"/>\n      </g>\n     </g>\n    </g>\n   </g>\n   <g id=\"line2d_19\">\n    <path clip-path=\"url(#p3621104e65)\" d=\"M 194.665 214.735864 \nL 244.885 214.735864 \nL 244.885 214.672117 \nL 194.665 214.672117 \nL 194.665 214.735864 \n\" style=\"fill:none;stroke:#1f77b4;stroke-linecap:square;\"/>\n   </g>\n   <g id=\"line2d_20\">\n    <path clip-path=\"url(#p3621104e65)\" d=\"M 219.775 214.735864 \nL 219.775 214.756364 \n\" style=\"fill:none;stroke:#1f77b4;stroke-linecap:square;\"/>\n   </g>\n   <g id=\"line2d_21\">\n    <path clip-path=\"url(#p3621104e65)\" d=\"M 219.775 214.672117 \nL 219.775 214.576638 \n\" style=\"fill:none;stroke:#1f77b4;stroke-linecap:square;\"/>\n   </g>\n   <g id=\"line2d_22\">\n    <path clip-path=\"url(#p3621104e65)\" d=\"M 207.22 214.756364 \nL 232.33 214.756364 \n\" style=\"fill:none;stroke:#000000;stroke-linecap:square;\"/>\n   </g>\n   <g id=\"line2d_23\">\n    <path clip-path=\"url(#p3621104e65)\" d=\"M 207.22 214.576638 \nL 232.33 214.576638 \n\" style=\"fill:none;stroke:#000000;stroke-linecap:square;\"/>\n   </g>\n   <g id=\"line2d_24\">\n    <defs>\n     <path d=\"M 0 3 \nC 0.795609 3 1.55874 2.683901 2.12132 2.12132 \nC 2.683901 1.55874 3 0.795609 3 0 \nC 3 -0.795609 2.683901 -1.55874 2.12132 -2.12132 \nC 1.55874 -2.683901 0.795609 -3 0 -3 \nC -0.795609 -3 -1.55874 -2.683901 -2.12132 -2.12132 \nC -2.683901 -1.55874 -3 -0.795609 -3 0 \nC -3 0.795609 -2.683901 1.55874 -2.12132 2.12132 \nC -1.55874 2.683901 -0.795609 3 0 3 \nz\n\" id=\"md3674045f2\" style=\"stroke:#000000;\"/>\n    </defs>\n    <g clip-path=\"url(#p3621104e65)\">\n     <use style=\"fill-opacity:0;stroke:#000000;\" x=\"219.775\" xlink:href=\"#md3674045f2\" y=\"17.083636\"/>\n     <use style=\"fill-opacity:0;stroke:#000000;\" x=\"219.775\" xlink:href=\"#md3674045f2\" y=\"17.083636\"/>\n     <use style=\"fill-opacity:0;stroke:#000000;\" x=\"219.775\" xlink:href=\"#md3674045f2\" y=\"214.562597\"/>\n     <use style=\"fill-opacity:0;stroke:#000000;\" x=\"219.775\" xlink:href=\"#md3674045f2\" y=\"214.566809\"/>\n     <use style=\"fill-opacity:0;stroke:#000000;\" x=\"219.775\" xlink:href=\"#md3674045f2\" y=\"207.557517\"/>\n     <use style=\"fill-opacity:0;stroke:#000000;\" x=\"219.775\" xlink:href=\"#md3674045f2\" y=\"214.562597\"/>\n     <use style=\"fill-opacity:0;stroke:#000000;\" x=\"219.775\" xlink:href=\"#md3674045f2\" y=\"214.566809\"/>\n     <use style=\"fill-opacity:0;stroke:#000000;\" x=\"219.775\" xlink:href=\"#md3674045f2\" y=\"214.562597\"/>\n     <use style=\"fill-opacity:0;stroke:#000000;\" x=\"219.775\" xlink:href=\"#md3674045f2\" y=\"214.562597\"/>\n     <use style=\"fill-opacity:0;stroke:#000000;\" x=\"219.775\" xlink:href=\"#md3674045f2\" y=\"200.333396\"/>\n     <use style=\"fill-opacity:0;stroke:#000000;\" x=\"219.775\" xlink:href=\"#md3674045f2\" y=\"200.333396\"/>\n     <use style=\"fill-opacity:0;stroke:#000000;\" x=\"219.775\" xlink:href=\"#md3674045f2\" y=\"200.333396\"/>\n     <use style=\"fill-opacity:0;stroke:#000000;\" x=\"219.775\" xlink:href=\"#md3674045f2\" y=\"17.083636\"/>\n     <use style=\"fill-opacity:0;stroke:#000000;\" x=\"219.775\" xlink:href=\"#md3674045f2\" y=\"214.548556\"/>\n     <use style=\"fill-opacity:0;stroke:#000000;\" x=\"219.775\" xlink:href=\"#md3674045f2\" y=\"200.333396\"/>\n     <use style=\"fill-opacity:0;stroke:#000000;\" x=\"219.775\" xlink:href=\"#md3674045f2\" y=\"214.571583\"/>\n     <use style=\"fill-opacity:0;stroke:#000000;\" x=\"219.775\" xlink:href=\"#md3674045f2\" y=\"171.436912\"/>\n     <use style=\"fill-opacity:0;stroke:#000000;\" x=\"219.775\" xlink:href=\"#md3674045f2\" y=\"214.564844\"/>\n     <use style=\"fill-opacity:0;stroke:#000000;\" x=\"219.775\" xlink:href=\"#md3674045f2\" y=\"214.555857\"/>\n     <use style=\"fill-opacity:0;stroke:#000000;\" x=\"219.775\" xlink:href=\"#md3674045f2\" y=\"214.552768\"/>\n     <use style=\"fill-opacity:0;stroke:#000000;\" x=\"219.775\" xlink:href=\"#md3674045f2\" y=\"214.533111\"/>\n     <use style=\"fill-opacity:0;stroke:#000000;\" x=\"219.775\" xlink:href=\"#md3674045f2\" y=\"214.485091\"/>\n     <use style=\"fill-opacity:0;stroke:#000000;\" x=\"219.775\" xlink:href=\"#md3674045f2\" y=\"214.561474\"/>\n     <use style=\"fill-opacity:0;stroke:#000000;\" x=\"219.775\" xlink:href=\"#md3674045f2\" y=\"207.557517\"/>\n     <use style=\"fill-opacity:0;stroke:#000000;\" x=\"219.775\" xlink:href=\"#md3674045f2\" y=\"17.083636\"/>\n     <use style=\"fill-opacity:0;stroke:#000000;\" x=\"219.775\" xlink:href=\"#md3674045f2\" y=\"214.552768\"/>\n     <use style=\"fill-opacity:0;stroke:#000000;\" x=\"219.775\" xlink:href=\"#md3674045f2\" y=\"214.533111\"/>\n     <use style=\"fill-opacity:0;stroke:#000000;\" x=\"219.775\" xlink:href=\"#md3674045f2\" y=\"207.557517\"/>\n     <use style=\"fill-opacity:0;stroke:#000000;\" x=\"219.775\" xlink:href=\"#md3674045f2\" y=\"207.557517\"/>\n     <use style=\"fill-opacity:0;stroke:#000000;\" x=\"219.775\" xlink:href=\"#md3674045f2\" y=\"214.51907\"/>\n     <use style=\"fill-opacity:0;stroke:#000000;\" x=\"219.775\" xlink:href=\"#md3674045f2\" y=\"193.109275\"/>\n     <use style=\"fill-opacity:0;stroke:#000000;\" x=\"219.775\" xlink:href=\"#md3674045f2\" y=\"17.083636\"/>\n     <use style=\"fill-opacity:0;stroke:#000000;\" x=\"219.775\" xlink:href=\"#md3674045f2\" y=\"214.287393\"/>\n     <use style=\"fill-opacity:0;stroke:#000000;\" x=\"219.775\" xlink:href=\"#md3674045f2\" y=\"214.386242\"/>\n     <use style=\"fill-opacity:0;stroke:#000000;\" x=\"219.775\" xlink:href=\"#md3674045f2\" y=\"207.557517\"/>\n     <use style=\"fill-opacity:0;stroke:#000000;\" x=\"219.775\" xlink:href=\"#md3674045f2\" y=\"207.557517\"/>\n     <use style=\"fill-opacity:0;stroke:#000000;\" x=\"219.775\" xlink:href=\"#md3674045f2\" y=\"17.083636\"/>\n     <use style=\"fill-opacity:0;stroke:#000000;\" x=\"219.775\" xlink:href=\"#md3674045f2\" y=\"207.557517\"/>\n     <use style=\"fill-opacity:0;stroke:#000000;\" x=\"219.775\" xlink:href=\"#md3674045f2\" y=\"214.386242\"/>\n     <use style=\"fill-opacity:0;stroke:#000000;\" x=\"219.775\" xlink:href=\"#md3674045f2\" y=\"214.566809\"/>\n     <use style=\"fill-opacity:0;stroke:#000000;\" x=\"219.775\" xlink:href=\"#md3674045f2\" y=\"214.574953\"/>\n     <use style=\"fill-opacity:0;stroke:#000000;\" x=\"219.775\" xlink:href=\"#md3674045f2\" y=\"200.333396\"/>\n     <use style=\"fill-opacity:0;stroke:#000000;\" x=\"219.775\" xlink:href=\"#md3674045f2\" y=\"17.083636\"/>\n     <use style=\"fill-opacity:0;stroke:#000000;\" x=\"219.775\" xlink:href=\"#md3674045f2\" y=\"214.512049\"/>\n     <use style=\"fill-opacity:0;stroke:#000000;\" x=\"219.775\" xlink:href=\"#md3674045f2\" y=\"17.083636\"/>\n     <use style=\"fill-opacity:0;stroke:#000000;\" x=\"219.775\" xlink:href=\"#md3674045f2\" y=\"214.556981\"/>\n     <use style=\"fill-opacity:0;stroke:#000000;\" x=\"219.775\" xlink:href=\"#md3674045f2\" y=\"214.555857\"/>\n     <use style=\"fill-opacity:0;stroke:#000000;\" x=\"219.775\" xlink:href=\"#md3674045f2\" y=\"214.556981\"/>\n     <use style=\"fill-opacity:0;stroke:#000000;\" x=\"219.775\" xlink:href=\"#md3674045f2\" y=\"214.538727\"/>\n     <use style=\"fill-opacity:0;stroke:#000000;\" x=\"219.775\" xlink:href=\"#md3674045f2\" y=\"214.572426\"/>\n     <use style=\"fill-opacity:0;stroke:#000000;\" x=\"219.775\" xlink:href=\"#md3674045f2\" y=\"214.548556\"/>\n     <use style=\"fill-opacity:0;stroke:#000000;\" x=\"219.775\" xlink:href=\"#md3674045f2\" y=\"214.534515\"/>\n     <use style=\"fill-opacity:0;stroke:#000000;\" x=\"219.775\" xlink:href=\"#md3674045f2\" y=\"214.523282\"/>\n     <use style=\"fill-opacity:0;stroke:#000000;\" x=\"219.775\" xlink:href=\"#md3674045f2\" y=\"214.566809\"/>\n     <use style=\"fill-opacity:0;stroke:#000000;\" x=\"219.775\" xlink:href=\"#md3674045f2\" y=\"214.564282\"/>\n     <use style=\"fill-opacity:0;stroke:#000000;\" x=\"219.775\" xlink:href=\"#md3674045f2\" y=\"214.559789\"/>\n     <use style=\"fill-opacity:0;stroke:#000000;\" x=\"219.775\" xlink:href=\"#md3674045f2\" y=\"214.561474\"/>\n     <use style=\"fill-opacity:0;stroke:#000000;\" x=\"219.775\" xlink:href=\"#md3674045f2\" y=\"17.083636\"/>\n     <use style=\"fill-opacity:0;stroke:#000000;\" x=\"219.775\" xlink:href=\"#md3674045f2\" y=\"207.557517\"/>\n     <use style=\"fill-opacity:0;stroke:#000000;\" x=\"219.775\" xlink:href=\"#md3674045f2\" y=\"17.083636\"/>\n     <use style=\"fill-opacity:0;stroke:#000000;\" x=\"219.775\" xlink:href=\"#md3674045f2\" y=\"214.515419\"/>\n     <use style=\"fill-opacity:0;stroke:#000000;\" x=\"219.775\" xlink:href=\"#md3674045f2\" y=\"214.544344\"/>\n     <use style=\"fill-opacity:0;stroke:#000000;\" x=\"219.775\" xlink:href=\"#md3674045f2\" y=\"214.568214\"/>\n     <use style=\"fill-opacity:0;stroke:#000000;\" x=\"219.775\" xlink:href=\"#md3674045f2\" y=\"214.572426\"/>\n     <use style=\"fill-opacity:0;stroke:#000000;\" x=\"219.775\" xlink:href=\"#md3674045f2\" y=\"200.333396\"/>\n     <use style=\"fill-opacity:0;stroke:#000000;\" x=\"219.775\" xlink:href=\"#md3674045f2\" y=\"185.885154\"/>\n     <use style=\"fill-opacity:0;stroke:#000000;\" x=\"219.775\" xlink:href=\"#md3674045f2\" y=\"214.510645\"/>\n     <use style=\"fill-opacity:0;stroke:#000000;\" x=\"219.775\" xlink:href=\"#md3674045f2\" y=\"200.333396\"/>\n     <use style=\"fill-opacity:0;stroke:#000000;\" x=\"219.775\" xlink:href=\"#md3674045f2\" y=\"200.333396\"/>\n     <use style=\"fill-opacity:0;stroke:#000000;\" x=\"219.775\" xlink:href=\"#md3674045f2\" y=\"207.557517\"/>\n     <use style=\"fill-opacity:0;stroke:#000000;\" x=\"219.775\" xlink:href=\"#md3674045f2\" y=\"214.51907\"/>\n     <use style=\"fill-opacity:0;stroke:#000000;\" x=\"219.775\" xlink:href=\"#md3674045f2\" y=\"193.109275\"/>\n     <use style=\"fill-opacity:0;stroke:#000000;\" x=\"219.775\" xlink:href=\"#md3674045f2\" y=\"214.562597\"/>\n     <use style=\"fill-opacity:0;stroke:#000000;\" x=\"219.775\" xlink:href=\"#md3674045f2\" y=\"193.109275\"/>\n     <use style=\"fill-opacity:0;stroke:#000000;\" x=\"219.775\" xlink:href=\"#md3674045f2\" y=\"214.555577\"/>\n     <use style=\"fill-opacity:0;stroke:#000000;\" x=\"219.775\" xlink:href=\"#md3674045f2\" y=\"207.557517\"/>\n     <use style=\"fill-opacity:0;stroke:#000000;\" x=\"219.775\" xlink:href=\"#md3674045f2\" y=\"200.333396\"/>\n     <use style=\"fill-opacity:0;stroke:#000000;\" x=\"219.775\" xlink:href=\"#md3674045f2\" y=\"200.333396\"/>\n     <use style=\"fill-opacity:0;stroke:#000000;\" x=\"219.775\" xlink:href=\"#md3674045f2\" y=\"17.083636\"/>\n     <use style=\"fill-opacity:0;stroke:#000000;\" x=\"219.775\" xlink:href=\"#md3674045f2\" y=\"193.109275\"/>\n     <use style=\"fill-opacity:0;stroke:#000000;\" x=\"219.775\" xlink:href=\"#md3674045f2\" y=\"207.557517\"/>\n     <use style=\"fill-opacity:0;stroke:#000000;\" x=\"219.775\" xlink:href=\"#md3674045f2\" y=\"214.548556\"/>\n     <use style=\"fill-opacity:0;stroke:#000000;\" x=\"219.775\" xlink:href=\"#md3674045f2\" y=\"17.083636\"/>\n     <use style=\"fill-opacity:0;stroke:#000000;\" x=\"219.775\" xlink:href=\"#md3674045f2\" y=\"214.485091\"/>\n     <use style=\"fill-opacity:0;stroke:#000000;\" x=\"219.775\" xlink:href=\"#md3674045f2\" y=\"214.531707\"/>\n     <use style=\"fill-opacity:0;stroke:#000000;\" x=\"219.775\" xlink:href=\"#md3674045f2\" y=\"214.506433\"/>\n     <use style=\"fill-opacity:0;stroke:#000000;\" x=\"219.775\" xlink:href=\"#md3674045f2\" y=\"207.557517\"/>\n     <use style=\"fill-opacity:0;stroke:#000000;\" x=\"219.775\" xlink:href=\"#md3674045f2\" y=\"200.333396\"/>\n     <use style=\"fill-opacity:0;stroke:#000000;\" x=\"219.775\" xlink:href=\"#md3674045f2\" y=\"214.568214\"/>\n     <use style=\"fill-opacity:0;stroke:#000000;\" x=\"219.775\" xlink:href=\"#md3674045f2\" y=\"207.557517\"/>\n     <use style=\"fill-opacity:0;stroke:#000000;\" x=\"219.775\" xlink:href=\"#md3674045f2\" y=\"200.333396\"/>\n     <use style=\"fill-opacity:0;stroke:#000000;\" x=\"219.775\" xlink:href=\"#md3674045f2\" y=\"214.571583\"/>\n     <use style=\"fill-opacity:0;stroke:#000000;\" x=\"219.775\" xlink:href=\"#md3674045f2\" y=\"214.560912\"/>\n     <use style=\"fill-opacity:0;stroke:#000000;\" x=\"219.775\" xlink:href=\"#md3674045f2\" y=\"17.083636\"/>\n     <use style=\"fill-opacity:0;stroke:#000000;\" x=\"219.775\" xlink:href=\"#md3674045f2\" y=\"193.109275\"/>\n     <use style=\"fill-opacity:0;stroke:#000000;\" x=\"219.775\" xlink:href=\"#md3674045f2\" y=\"214.574953\"/>\n     <use style=\"fill-opacity:0;stroke:#000000;\" x=\"219.775\" xlink:href=\"#md3674045f2\" y=\"214.555577\"/>\n     <use style=\"fill-opacity:0;stroke:#000000;\" x=\"219.775\" xlink:href=\"#md3674045f2\" y=\"207.557517\"/>\n     <use style=\"fill-opacity:0;stroke:#000000;\" x=\"219.775\" xlink:href=\"#md3674045f2\" y=\"214.485091\"/>\n     <use style=\"fill-opacity:0;stroke:#000000;\" x=\"219.775\" xlink:href=\"#md3674045f2\" y=\"214.574953\"/>\n     <use style=\"fill-opacity:0;stroke:#000000;\" x=\"219.775\" xlink:href=\"#md3674045f2\" y=\"214.51907\"/>\n     <use style=\"fill-opacity:0;stroke:#000000;\" x=\"219.775\" xlink:href=\"#md3674045f2\" y=\"214.476666\"/>\n     <use style=\"fill-opacity:0;stroke:#000000;\" x=\"219.775\" xlink:href=\"#md3674045f2\" y=\"214.574953\"/>\n     <use style=\"fill-opacity:0;stroke:#000000;\" x=\"219.775\" xlink:href=\"#md3674045f2\" y=\"200.333396\"/>\n     <use style=\"fill-opacity:0;stroke:#000000;\" x=\"219.775\" xlink:href=\"#md3674045f2\" y=\"193.109275\"/>\n     <use style=\"fill-opacity:0;stroke:#000000;\" x=\"219.775\" xlink:href=\"#md3674045f2\" y=\"207.557517\"/>\n     <use style=\"fill-opacity:0;stroke:#000000;\" x=\"219.775\" xlink:href=\"#md3674045f2\" y=\"214.552488\"/>\n     <use style=\"fill-opacity:0;stroke:#000000;\" x=\"219.775\" xlink:href=\"#md3674045f2\" y=\"214.554172\"/>\n     <use style=\"fill-opacity:0;stroke:#000000;\" x=\"219.775\" xlink:href=\"#md3674045f2\" y=\"214.57383\"/>\n     <use style=\"fill-opacity:0;stroke:#000000;\" x=\"219.775\" xlink:href=\"#md3674045f2\" y=\"207.557517\"/>\n     <use style=\"fill-opacity:0;stroke:#000000;\" x=\"219.775\" xlink:href=\"#md3674045f2\" y=\"17.083636\"/>\n     <use style=\"fill-opacity:0;stroke:#000000;\" x=\"219.775\" xlink:href=\"#md3674045f2\" y=\"200.333396\"/>\n     <use style=\"fill-opacity:0;stroke:#000000;\" x=\"219.775\" xlink:href=\"#md3674045f2\" y=\"214.482844\"/>\n     <use style=\"fill-opacity:0;stroke:#000000;\" x=\"219.775\" xlink:href=\"#md3674045f2\" y=\"193.109275\"/>\n     <use style=\"fill-opacity:0;stroke:#000000;\" x=\"219.775\" xlink:href=\"#md3674045f2\" y=\"214.562597\"/>\n     <use style=\"fill-opacity:0;stroke:#000000;\" x=\"219.775\" xlink:href=\"#md3674045f2\" y=\"200.333396\"/>\n     <use style=\"fill-opacity:0;stroke:#000000;\" x=\"219.775\" xlink:href=\"#md3674045f2\" y=\"200.333396\"/>\n     <use style=\"fill-opacity:0;stroke:#000000;\" x=\"219.775\" xlink:href=\"#md3674045f2\" y=\"193.109275\"/>\n     <use style=\"fill-opacity:0;stroke:#000000;\" x=\"219.775\" xlink:href=\"#md3674045f2\" y=\"214.575234\"/>\n     <use style=\"fill-opacity:0;stroke:#000000;\" x=\"219.775\" xlink:href=\"#md3674045f2\" y=\"207.557517\"/>\n     <use style=\"fill-opacity:0;stroke:#000000;\" x=\"219.775\" xlink:href=\"#md3674045f2\" y=\"214.568214\"/>\n     <use style=\"fill-opacity:0;stroke:#000000;\" x=\"219.775\" xlink:href=\"#md3674045f2\" y=\"214.534515\"/>\n     <use style=\"fill-opacity:0;stroke:#000000;\" x=\"219.775\" xlink:href=\"#md3674045f2\" y=\"214.562597\"/>\n     <use style=\"fill-opacity:0;stroke:#000000;\" x=\"219.775\" xlink:href=\"#md3674045f2\" y=\"214.571583\"/>\n     <use style=\"fill-opacity:0;stroke:#000000;\" x=\"219.775\" xlink:href=\"#md3674045f2\" y=\"214.571583\"/>\n     <use style=\"fill-opacity:0;stroke:#000000;\" x=\"219.775\" xlink:href=\"#md3674045f2\" y=\"207.557517\"/>\n     <use style=\"fill-opacity:0;stroke:#000000;\" x=\"219.775\" xlink:href=\"#md3674045f2\" y=\"214.571583\"/>\n     <use style=\"fill-opacity:0;stroke:#000000;\" x=\"219.775\" xlink:href=\"#md3674045f2\" y=\"214.556981\"/>\n     <use style=\"fill-opacity:0;stroke:#000000;\" x=\"219.775\" xlink:href=\"#md3674045f2\" y=\"17.083636\"/>\n     <use style=\"fill-opacity:0;stroke:#000000;\" x=\"219.775\" xlink:href=\"#md3674045f2\" y=\"214.562597\"/>\n     <use style=\"fill-opacity:0;stroke:#000000;\" x=\"219.775\" xlink:href=\"#md3674045f2\" y=\"193.109275\"/>\n     <use style=\"fill-opacity:0;stroke:#000000;\" x=\"219.775\" xlink:href=\"#md3674045f2\" y=\"214.512049\"/>\n     <use style=\"fill-opacity:0;stroke:#000000;\" x=\"219.775\" xlink:href=\"#md3674045f2\" y=\"17.083636\"/>\n     <use style=\"fill-opacity:0;stroke:#000000;\" x=\"219.775\" xlink:href=\"#md3674045f2\" y=\"214.559789\"/>\n     <use style=\"fill-opacity:0;stroke:#000000;\" x=\"219.775\" xlink:href=\"#md3674045f2\" y=\"17.083636\"/>\n     <use style=\"fill-opacity:0;stroke:#000000;\" x=\"219.775\" xlink:href=\"#md3674045f2\" y=\"214.568214\"/>\n     <use style=\"fill-opacity:0;stroke:#000000;\" x=\"219.775\" xlink:href=\"#md3674045f2\" y=\"207.557517\"/>\n     <use style=\"fill-opacity:0;stroke:#000000;\" x=\"219.775\" xlink:href=\"#md3674045f2\" y=\"214.566809\"/>\n     <use style=\"fill-opacity:0;stroke:#000000;\" x=\"219.775\" xlink:href=\"#md3674045f2\" y=\"214.534515\"/>\n     <use style=\"fill-opacity:0;stroke:#000000;\" x=\"219.775\" xlink:href=\"#md3674045f2\" y=\"214.538727\"/>\n     <use style=\"fill-opacity:0;stroke:#000000;\" x=\"219.775\" xlink:href=\"#md3674045f2\" y=\"214.564844\"/>\n    </g>\n   </g>\n   <g id=\"line2d_25\">\n    <path clip-path=\"url(#p3621104e65)\" d=\"M 194.665 214.701884 \nL 244.885 214.701884 \n\" style=\"fill:none;stroke:#2ca02c;stroke-linecap:square;\"/>\n   </g>\n   <g id=\"patch_3\">\n    <path d=\"M 52.375 224.64 \nL 52.375 7.2 \n\" style=\"fill:none;stroke:#000000;stroke-linecap:square;stroke-linejoin:miter;stroke-width:0.8;\"/>\n   </g>\n   <g id=\"patch_4\">\n    <path d=\"M 387.175 224.64 \nL 387.175 7.2 \n\" style=\"fill:none;stroke:#000000;stroke-linecap:square;stroke-linejoin:miter;stroke-width:0.8;\"/>\n   </g>\n   <g id=\"patch_5\">\n    <path d=\"M 52.375 224.64 \nL 387.175 224.64 \n\" style=\"fill:none;stroke:#000000;stroke-linecap:square;stroke-linejoin:miter;stroke-width:0.8;\"/>\n   </g>\n   <g id=\"patch_6\">\n    <path d=\"M 52.375 7.2 \nL 387.175 7.2 \n\" style=\"fill:none;stroke:#000000;stroke-linecap:square;stroke-linejoin:miter;stroke-width:0.8;\"/>\n   </g>\n  </g>\n </g>\n <defs>\n  <clipPath id=\"p3621104e65\">\n   <rect height=\"217.44\" width=\"334.8\" x=\"52.375\" y=\"7.2\"/>\n  </clipPath>\n </defs>\n</svg>\n",
      "image/png": "[encoded data removed]"
     },
     "metadata": {
      "needs_background": "light"
     }
    }
   ],
   "source": [
    "df.boxplot(column='order_amount')"
   ]
  },
  {
   "cell_type": "code",
   "execution_count": 104,
   "metadata": {},
   "outputs": [
    {
     "output_type": "execute_result",
     "data": {
      "text/plain": [
       "      order_id  shop_id  user_id  order_amount  total_items payment_method  \\\n",
       "691        692       78      878        154350            6          debit   \n",
       "2492      2493       78      834        102900            4          debit   \n",
       "3403      3404       78      928         77175            3          debit   \n",
       "2564      2565       78      915         77175            3          debit   \n",
       "4715      4716       78      818         77175            3          debit   \n",
       "...        ...      ...      ...           ...          ...            ...   \n",
       "1843      1844       92      987            90            1          debit   \n",
       "4219      4220       92      747            90            1    credit_card   \n",
       "3363      3364       92      730            90            1    credit_card   \n",
       "322        323       92      783            90            1          debit   \n",
       "2503      2504       92      935            90            1    credit_card   \n",
       "\n",
       "                  created_at  \n",
       "691  2017-03-27 22:51:43.203  \n",
       "2492 2017-03-04 04:37:33.848  \n",
       "3403 2017-03-16 09:45:04.544  \n",
       "2564 2017-03-25 01:19:35.410  \n",
       "4715 2017-03-05 05:10:43.633  \n",
       "...                      ...  \n",
       "1843 2017-03-06 07:01:09.439  \n",
       "4219 2017-03-25 20:16:57.851  \n",
       "3363 2017-03-11 23:20:31.493  \n",
       "322  2017-03-08 03:49:15.321  \n",
       "2503 2017-03-28 02:30:25.553  \n",
       "\n",
       "[4949 rows x 7 columns]"
      ],
      "text/html": "<div>\n<style scoped>\n    .dataframe tbody tr th:only-of-type {\n        vertical-align: middle;\n    }\n\n    .dataframe tbody tr th {\n        vertical-align: top;\n    }\n\n    .dataframe thead th {\n        text-align: right;\n    }\n</style>\n<table border=\"1\" class=\"dataframe\">\n  <thead>\n    <tr style=\"text-align: right;\">\n      <th></th>\n      <th>order_id</th>\n      <th>shop_id</th>\n      <th>user_id</th>\n      <th>order_amount</th>\n      <th>total_items</th>\n      <th>payment_method</th>\n      <th>created_at</th>\n    </tr>\n  </thead>\n  <tbody>\n    <tr>\n      <th>691</th>\n      <td>692</td>\n      <td>78</td>\n      <td>878</td>\n      <td>154350</td>\n      <td>6</td>\n      <td>debit</td>\n      <td>2017-03-27 22:51:43.203</td>\n    </tr>\n    <tr>\n      <th>2492</th>\n      <td>2493</td>\n      <td>78</td>\n      <td>834</td>\n      <td>102900</td>\n      <td>4</td>\n      <td>debit</td>\n      <td>2017-03-04 04:37:33.848</td>\n    </tr>\n    <tr>\n      <th>3403</th>\n      <td>3404</td>\n      <td>78</td>\n      <td>928</td>\n      <td>77175</td>\n      <td>3</td>\n      <td>debit</td>\n      <td>2017-03-16 09:45:04.544</td>\n    </tr>\n    <tr>\n      <th>2564</th>\n      <td>2565</td>\n      <td>78</td>\n      <td>915</td>\n      <td>77175</td>\n      <td>3</td>\n      <td>debit</td>\n      <td>2017-03-25 01:19:35.410</td>\n    </tr>\n    <tr>\n      <th>4715</th>\n      <td>4716</td>\n      <td>78</td>\n      <td>818</td>\n      <td>77175</td>\n      <td>3</td>\n      <td>debit</td>\n      <td>2017-03-05 05:10:43.633</td>\n    </tr>\n    <tr>\n      <th>...</th>\n      <td>...</td>\n      <td>...</td>\n      <td>...</td>\n      <td>...</td>\n      <td>...</td>\n      <td>...</td>\n      <td>...</td>\n    </tr>\n    <tr>\n      <th>1843</th>\n      <td>1844</td>\n      <td>92</td>\n      <td>987</td>\n      <td>90</td>\n      <td>1</td>\n      <td>debit</td>\n      <td>2017-03-06 07:01:09.439</td>\n    </tr>\n    <tr>\n      <th>4219</th>\n      <td>4220</td>\n      <td>92</td>\n      <td>747</td>\n      <td>90</td>\n      <td>1</td>\n      <td>credit_card</td>\n      <td>2017-03-25 20:16:57.851</td>\n    </tr>\n    <tr>\n      <th>3363</th>\n      <td>3364</td>\n      <td>92</td>\n      <td>730</td>\n      <td>90</td>\n      <td>1</td>\n      <td>credit_card</td>\n      <td>2017-03-11 23:20:31.493</td>\n    </tr>\n    <tr>\n      <th>322</th>\n      <td>323</td>\n      <td>92</td>\n      <td>783</td>\n      <td>90</td>\n      <td>1</td>\n      <td>debit</td>\n      <td>2017-03-08 03:49:15.321</td>\n    </tr>\n    <tr>\n      <th>2503</th>\n      <td>2504</td>\n      <td>92</td>\n      <td>935</td>\n      <td>90</td>\n      <td>1</td>\n      <td>credit_card</td>\n      <td>2017-03-28 02:30:25.553</td>\n    </tr>\n  </tbody>\n</table>\n<p>4949 rows × 7 columns</p>\n</div>"
     },
     "metadata": {},
     "execution_count": 104
    }
   ],
   "source": [
    "df.sort_values(by='order_amount',axis=0,ascending=False)"
   ]
  },
  {
   "source": [
    "There seems to be an issue with shop_id == 42, let us explore that."
   ],
   "cell_type": "markdown",
   "metadata": {}
  },
  {
   "cell_type": "code",
   "execution_count": 106,
   "metadata": {},
   "outputs": [
    {
     "output_type": "execute_result",
     "data": {
      "text/plain": [
       "Empty DataFrame\n",
       "Columns: [order_id, shop_id, user_id, order_amount, total_items, payment_method, created_at]\n",
       "Index: []"
      ],
      "text/html": "<div>\n<style scoped>\n    .dataframe tbody tr th:only-of-type {\n        vertical-align: middle;\n    }\n\n    .dataframe tbody tr th {\n        vertical-align: top;\n    }\n\n    .dataframe thead th {\n        text-align: right;\n    }\n</style>\n<table border=\"1\" class=\"dataframe\">\n  <thead>\n    <tr style=\"text-align: right;\">\n      <th></th>\n      <th>order_id</th>\n      <th>shop_id</th>\n      <th>user_id</th>\n      <th>order_amount</th>\n      <th>total_items</th>\n      <th>payment_method</th>\n      <th>created_at</th>\n    </tr>\n  </thead>\n  <tbody>\n  </tbody>\n</table>\n</div>"
     },
     "metadata": {},
     "execution_count": 106
    }
   ],
   "source": [
    "df[df['shop_id']==42].sort_values(by='order_amount',axis=0,ascending=False)"
   ]
  },
  {
   "source": [
    "A similar transaction is made on the same time on days, hence I think it would be better to ignore that as an anomaly and also any other transactions which may have the same pattern. Thus we should remove these outliers from our data "
   ],
   "cell_type": "markdown",
   "metadata": {}
  },
  {
   "cell_type": "code",
   "execution_count": 108,
   "metadata": {},
   "outputs": [],
   "source": [
    "df = df[(df['shop_id']!=42) & (df['order_amount']!=704000)]"
   ]
  },
  {
   "cell_type": "code",
   "execution_count": 110,
   "metadata": {},
   "outputs": [
    {
     "output_type": "execute_result",
     "data": {
      "text/plain": [
       "          order_id      shop_id      user_id   order_amount  total_items\n",
       "count  4949.000000  4949.000000  4949.000000    4949.000000  4949.000000\n",
       "mean   2501.103657    50.162053   850.025056     754.791675     1.994948\n",
       "std    1443.233931    29.143562    86.847043    5332.231644     0.982967\n",
       "min       1.000000     1.000000   700.000000      90.000000     1.000000\n",
       "25%    1249.000000    24.000000   776.000000     163.000000     1.000000\n",
       "50%    2504.000000    51.000000   850.000000     284.000000     2.000000\n",
       "75%    3750.000000    75.000000   925.000000     390.000000     3.000000\n",
       "max    5000.000000   100.000000   999.000000  154350.000000     8.000000"
      ],
      "text/html": "<div>\n<style scoped>\n    .dataframe tbody tr th:only-of-type {\n        vertical-align: middle;\n    }\n\n    .dataframe tbody tr th {\n        vertical-align: top;\n    }\n\n    .dataframe thead th {\n        text-align: right;\n    }\n</style>\n<table border=\"1\" class=\"dataframe\">\n  <thead>\n    <tr style=\"text-align: right;\">\n      <th></th>\n      <th>order_id</th>\n      <th>shop_id</th>\n      <th>user_id</th>\n      <th>order_amount</th>\n      <th>total_items</th>\n    </tr>\n  </thead>\n  <tbody>\n    <tr>\n      <th>count</th>\n      <td>4949.000000</td>\n      <td>4949.000000</td>\n      <td>4949.000000</td>\n      <td>4949.000000</td>\n      <td>4949.000000</td>\n    </tr>\n    <tr>\n      <th>mean</th>\n      <td>2501.103657</td>\n      <td>50.162053</td>\n      <td>850.025056</td>\n      <td>754.791675</td>\n      <td>1.994948</td>\n    </tr>\n    <tr>\n      <th>std</th>\n      <td>1443.233931</td>\n      <td>29.143562</td>\n      <td>86.847043</td>\n      <td>5332.231644</td>\n      <td>0.982967</td>\n    </tr>\n    <tr>\n      <th>min</th>\n      <td>1.000000</td>\n      <td>1.000000</td>\n      <td>700.000000</td>\n      <td>90.000000</td>\n      <td>1.000000</td>\n    </tr>\n    <tr>\n      <th>25%</th>\n      <td>1249.000000</td>\n      <td>24.000000</td>\n      <td>776.000000</td>\n      <td>163.000000</td>\n      <td>1.000000</td>\n    </tr>\n    <tr>\n      <th>50%</th>\n      <td>2504.000000</td>\n      <td>51.000000</td>\n      <td>850.000000</td>\n      <td>284.000000</td>\n      <td>2.000000</td>\n    </tr>\n    <tr>\n      <th>75%</th>\n      <td>3750.000000</td>\n      <td>75.000000</td>\n      <td>925.000000</td>\n      <td>390.000000</td>\n      <td>3.000000</td>\n    </tr>\n    <tr>\n      <th>max</th>\n      <td>5000.000000</td>\n      <td>100.000000</td>\n      <td>999.000000</td>\n      <td>154350.000000</td>\n      <td>8.000000</td>\n    </tr>\n  </tbody>\n</table>\n</div>"
     },
     "metadata": {},
     "execution_count": 110
    }
   ],
   "source": [
    "df.describe()"
   ]
  },
  {
   "source": [
    "Now we see that the max order amount is 154350, let us examine this."
   ],
   "cell_type": "markdown",
   "metadata": {}
  },
  {
   "cell_type": "code",
   "execution_count": 112,
   "metadata": {},
   "outputs": [
    {
     "output_type": "execute_result",
     "data": {
      "text/plain": [
       "      order_id  shop_id  user_id  order_amount  total_items payment_method  \\\n",
       "691        692       78      878        154350            6          debit   \n",
       "2492      2493       78      834        102900            4          debit   \n",
       "3538      3539       43      830          1086            6          debit   \n",
       "4141      4142       54      733          1064            8          debit   \n",
       "3077      3078       89      754           980            5          debit   \n",
       "...        ...      ...      ...           ...          ...            ...   \n",
       "4932      4933       92      823            90            1    credit_card   \n",
       "4219      4220       92      747            90            1    credit_card   \n",
       "322        323       92      783            90            1          debit   \n",
       "2503      2504       92      935            90            1    credit_card   \n",
       "3871      3872       92      818            90            1          debit   \n",
       "\n",
       "                  created_at  \n",
       "691  2017-03-27 22:51:43.203  \n",
       "2492 2017-03-04 04:37:33.848  \n",
       "3538 2017-03-17 19:56:29.343  \n",
       "4141 2017-03-07 17:05:17.910  \n",
       "3077 2017-03-13 05:27:58.312  \n",
       "...                      ...  \n",
       "4932 2017-03-24 02:17:12.909  \n",
       "4219 2017-03-25 20:16:57.851  \n",
       "322  2017-03-08 03:49:15.321  \n",
       "2503 2017-03-28 02:30:25.553  \n",
       "3871 2017-03-18 09:10:07.550  \n",
       "\n",
       "[4905 rows x 7 columns]"
      ],
      "text/html": "<div>\n<style scoped>\n    .dataframe tbody tr th:only-of-type {\n        vertical-align: middle;\n    }\n\n    .dataframe tbody tr th {\n        vertical-align: top;\n    }\n\n    .dataframe thead th {\n        text-align: right;\n    }\n</style>\n<table border=\"1\" class=\"dataframe\">\n  <thead>\n    <tr style=\"text-align: right;\">\n      <th></th>\n      <th>order_id</th>\n      <th>shop_id</th>\n      <th>user_id</th>\n      <th>order_amount</th>\n      <th>total_items</th>\n      <th>payment_method</th>\n      <th>created_at</th>\n    </tr>\n  </thead>\n  <tbody>\n    <tr>\n      <th>691</th>\n      <td>692</td>\n      <td>78</td>\n      <td>878</td>\n      <td>154350</td>\n      <td>6</td>\n      <td>debit</td>\n      <td>2017-03-27 22:51:43.203</td>\n    </tr>\n    <tr>\n      <th>2492</th>\n      <td>2493</td>\n      <td>78</td>\n      <td>834</td>\n      <td>102900</td>\n      <td>4</td>\n      <td>debit</td>\n      <td>2017-03-04 04:37:33.848</td>\n    </tr>\n    <tr>\n      <th>3538</th>\n      <td>3539</td>\n      <td>43</td>\n      <td>830</td>\n      <td>1086</td>\n      <td>6</td>\n      <td>debit</td>\n      <td>2017-03-17 19:56:29.343</td>\n    </tr>\n    <tr>\n      <th>4141</th>\n      <td>4142</td>\n      <td>54</td>\n      <td>733</td>\n      <td>1064</td>\n      <td>8</td>\n      <td>debit</td>\n      <td>2017-03-07 17:05:17.910</td>\n    </tr>\n    <tr>\n      <th>3077</th>\n      <td>3078</td>\n      <td>89</td>\n      <td>754</td>\n      <td>980</td>\n      <td>5</td>\n      <td>debit</td>\n      <td>2017-03-13 05:27:58.312</td>\n    </tr>\n    <tr>\n      <th>...</th>\n      <td>...</td>\n      <td>...</td>\n      <td>...</td>\n      <td>...</td>\n      <td>...</td>\n      <td>...</td>\n      <td>...</td>\n    </tr>\n    <tr>\n      <th>4932</th>\n      <td>4933</td>\n      <td>92</td>\n      <td>823</td>\n      <td>90</td>\n      <td>1</td>\n      <td>credit_card</td>\n      <td>2017-03-24 02:17:12.909</td>\n    </tr>\n    <tr>\n      <th>4219</th>\n      <td>4220</td>\n      <td>92</td>\n      <td>747</td>\n      <td>90</td>\n      <td>1</td>\n      <td>credit_card</td>\n      <td>2017-03-25 20:16:57.851</td>\n    </tr>\n    <tr>\n      <th>322</th>\n      <td>323</td>\n      <td>92</td>\n      <td>783</td>\n      <td>90</td>\n      <td>1</td>\n      <td>debit</td>\n      <td>2017-03-08 03:49:15.321</td>\n    </tr>\n    <tr>\n      <th>2503</th>\n      <td>2504</td>\n      <td>92</td>\n      <td>935</td>\n      <td>90</td>\n      <td>1</td>\n      <td>credit_card</td>\n      <td>2017-03-28 02:30:25.553</td>\n    </tr>\n    <tr>\n      <th>3871</th>\n      <td>3872</td>\n      <td>92</td>\n      <td>818</td>\n      <td>90</td>\n      <td>1</td>\n      <td>debit</td>\n      <td>2017-03-18 09:10:07.550</td>\n    </tr>\n  </tbody>\n</table>\n<p>4905 rows × 7 columns</p>\n</div>"
     },
     "metadata": {},
     "execution_count": 112
    }
   ],
   "source": [
    "df.sort_values(by='order_amount',axis=0,ascending=False)"
   ]
  },
  {
   "cell_type": "code",
   "execution_count": 114,
   "metadata": {},
   "outputs": [
    {
     "output_type": "execute_result",
     "data": {
      "text/plain": [
       "102900    1\n",
       "Name: order_amount, dtype: int64"
      ]
     },
     "metadata": {},
     "execution_count": 114
    }
   ],
   "source": [
    "df[(df['order_amount'] == 154250)| (df['order_amount'] == 102900) | (df['order_amount'] ==77175) | (df['order_amount'] ==51450) | (df['order_amount'] ==25725)].sort_values(by='order_amount',axis=0,ascending=False)['order_amount'].value_counts()"
   ]
  },
  {
   "source": [
    "Since 25725, 51450, 77175 seem repeated we should discard them as well as I feel like they are outliers\n"
   ],
   "cell_type": "markdown",
   "metadata": {}
  },
  {
   "cell_type": "code",
   "execution_count": 115,
   "metadata": {},
   "outputs": [],
   "source": [
    "df = df[(df['order_amount'] != 25725) & (df['order_amount'] != 51450) & (df['order_amount'] !=77175)]"
   ]
  },
  {
   "cell_type": "code",
   "execution_count": 116,
   "metadata": {},
   "outputs": [
    {
     "output_type": "execute_result",
     "data": {
      "text/plain": [
       "          order_id      shop_id      user_id   order_amount  total_items\n",
       "count  4905.000000  4905.000000  4905.000000    4905.000000  4905.000000\n",
       "mean   2499.214679    49.912334   849.861366     352.479918     1.996942\n",
       "std    1444.157285    29.153942    86.871452    2647.132809     0.984479\n",
       "min       1.000000     1.000000   700.000000      90.000000     1.000000\n",
       "25%    1246.000000    24.000000   776.000000     163.000000     1.000000\n",
       "50%    2498.000000    50.000000   850.000000     284.000000     2.000000\n",
       "75%    3750.000000    74.000000   925.000000     387.000000     3.000000\n",
       "max    5000.000000   100.000000   999.000000  154350.000000     8.000000"
      ],
      "text/html": "<div>\n<style scoped>\n    .dataframe tbody tr th:only-of-type {\n        vertical-align: middle;\n    }\n\n    .dataframe tbody tr th {\n        vertical-align: top;\n    }\n\n    .dataframe thead th {\n        text-align: right;\n    }\n</style>\n<table border=\"1\" class=\"dataframe\">\n  <thead>\n    <tr style=\"text-align: right;\">\n      <th></th>\n      <th>order_id</th>\n      <th>shop_id</th>\n      <th>user_id</th>\n      <th>order_amount</th>\n      <th>total_items</th>\n    </tr>\n  </thead>\n  <tbody>\n    <tr>\n      <th>count</th>\n      <td>4905.000000</td>\n      <td>4905.000000</td>\n      <td>4905.000000</td>\n      <td>4905.000000</td>\n      <td>4905.000000</td>\n    </tr>\n    <tr>\n      <th>mean</th>\n      <td>2499.214679</td>\n      <td>49.912334</td>\n      <td>849.861366</td>\n      <td>352.479918</td>\n      <td>1.996942</td>\n    </tr>\n    <tr>\n      <th>std</th>\n      <td>1444.157285</td>\n      <td>29.153942</td>\n      <td>86.871452</td>\n      <td>2647.132809</td>\n      <td>0.984479</td>\n    </tr>\n    <tr>\n      <th>min</th>\n      <td>1.000000</td>\n      <td>1.000000</td>\n      <td>700.000000</td>\n      <td>90.000000</td>\n      <td>1.000000</td>\n    </tr>\n    <tr>\n      <th>25%</th>\n      <td>1246.000000</td>\n      <td>24.000000</td>\n      <td>776.000000</td>\n      <td>163.000000</td>\n      <td>1.000000</td>\n    </tr>\n    <tr>\n      <th>50%</th>\n      <td>2498.000000</td>\n      <td>50.000000</td>\n      <td>850.000000</td>\n      <td>284.000000</td>\n      <td>2.000000</td>\n    </tr>\n    <tr>\n      <th>75%</th>\n      <td>3750.000000</td>\n      <td>74.000000</td>\n      <td>925.000000</td>\n      <td>387.000000</td>\n      <td>3.000000</td>\n    </tr>\n    <tr>\n      <th>max</th>\n      <td>5000.000000</td>\n      <td>100.000000</td>\n      <td>999.000000</td>\n      <td>154350.000000</td>\n      <td>8.000000</td>\n    </tr>\n  </tbody>\n</table>\n</div>"
     },
     "metadata": {},
     "execution_count": 116
    }
   ],
   "source": [
    "df.describe()"
   ]
  },
  {
   "source": [
    "Hence we removed 95 obervations from the Data, and we have landed to the observation that the AOV is now 352.48 which is a much better value. "
   ],
   "cell_type": "markdown",
   "metadata": {}
  },
  {
   "source": [
    "b. What metric would you report for this dataset?\n"
   ],
   "cell_type": "markdown",
   "metadata": {}
  },
  {
   "source": [
    "Another way to evaluate this data would be to check the median, as it has stayed constant before and after removing the outliers which is 284. Median is a more robust statistic and is not affected by outliers unlike mean. Hence, I would report median as a metric for this data."
   ],
   "cell_type": "markdown",
   "metadata": {}
  },
  {
   "source": [
    "c. What is its value?\n"
   ],
   "cell_type": "markdown",
   "metadata": {}
  },
  {
   "source": [
    "The median for this data is 284 as seen in the table above"
   ],
   "cell_type": "markdown",
   "metadata": {}
  }
 ]
}